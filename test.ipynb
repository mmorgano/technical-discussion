{
 "cells": [
  {
   "cell_type": "code",
   "execution_count": 18,
   "metadata": {},
   "outputs": [],
   "source": [
    "def increment(x):\n",
    "    return x + 1\n",
    "\n",
    "def test_increment():\n",
    "    assert increment(3) == 4\n",
    "    assert increment(5) == 6, \"Increment failed\"\n",
    "    \n",
    "    #Catch failures with try/except\n",
    "    try:\n",
    "        assert increment(-2) == -1 \n",
    "    except AssertionError:\n",
    "        print(\"Incrementing negative number failed\")\n",
    "        "
   ]
  },
  {
   "cell_type": "code",
   "execution_count": 19,
   "metadata": {},
   "outputs": [],
   "source": [
    "test_increment()"
   ]
  },
  {
   "cell_type": "code",
   "execution_count": 48,
   "metadata": {},
   "outputs": [
    {
     "name": "stdout",
     "output_type": "stream",
     "text": [
      "3 --> Value OK\n",
      "4 --> Value OK\n",
      "-1 --> Value OK\n",
      "Test failed can only concatenate str (not \"int\") to str\n",
      "9 --> Value OK\n"
     ]
    }
   ],
   "source": [
    "def test_increment_param(*args):\n",
    "    for a in args:\n",
    "        try:\n",
    "            assert isinstance(increment(a),(int,float))\n",
    "            assert increment(a) == a+1\n",
    "            print(a,\"--> Value OK\")\n",
    "        except Exception as e:\n",
    "            print(\"Test failed\", e )\n",
    "        \n",
    "\n",
    "test_increment_param(3,4,-1,\"ciao\",9)"
   ]
  },
  {
   "cell_type": "code",
   "execution_count": 52,
   "metadata": {},
   "outputs": [
    {
     "name": "stdout",
     "output_type": "stream",
     "text": [
      "Test failed can only concatenate str (not \"int\") to str\n"
     ]
    }
   ],
   "source": [
    "def test_increment_param_all(*args):\n",
    "    for a in args:\n",
    "        try:\n",
    "            assert all([ \n",
    "                isinstance(increment(a),(int,float)),\n",
    "                increment(a) == a+1\n",
    "            ])\n",
    "        except Exception as e:\n",
    "            print(\"Test failed\", e )\n",
    "test_increment_param_all(3,4,-1,\"ciao\",9)"
   ]
  },
  {
   "cell_type": "code",
   "execution_count": 73,
   "metadata": {},
   "outputs": [
    {
     "name": "stdout",
     "output_type": "stream",
     "text": [
      "Test thresholds min=0 max=5\n",
      "3\n",
      "4\n",
      "0\n",
      "==============================\n",
      "Test thresholds min=-1 max=10\n",
      "-9\n",
      "Test failed -9 Not in the thresholds\n",
      "4\n",
      "-1\n",
      "==============================\n"
     ]
    }
   ],
   "source": [
    "def test_thresholds(*args,min=0,max=5):\n",
    "    print(f'Test thresholds min={min} max={max}')\n",
    "    for a in args:\n",
    "        print(a)\n",
    "        try:\n",
    "            assert min <= increment(a) <= max ,f'{a} Not in the thresholds'\n",
    "        except Exception as e :\n",
    "            print(\"Test failed\", e )\n",
    "    print('=' * 30)\n",
    "test_thresholds(3,4,0) \n",
    "test_thresholds(-9,4,-1,min=-1,max=10) "
   ]
  },
  {
   "cell_type": "code",
   "execution_count": null,
   "metadata": {},
   "outputs": [],
   "source": []
  }
 ],
 "metadata": {
  "kernelspec": {
   "display_name": "Python 3",
   "language": "python",
   "name": "python3"
  },
  "language_info": {
   "codemirror_mode": {
    "name": "ipython",
    "version": 3
   },
   "file_extension": ".py",
   "mimetype": "text/x-python",
   "name": "python",
   "nbconvert_exporter": "python",
   "pygments_lexer": "ipython3",
   "version": "3.7.6"
  }
 },
 "nbformat": 4,
 "nbformat_minor": 4
}
